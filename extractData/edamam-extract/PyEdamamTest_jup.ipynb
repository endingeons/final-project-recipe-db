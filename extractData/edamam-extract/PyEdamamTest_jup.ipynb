{
 "cells": [
  {
   "cell_type": "code",
   "execution_count": 3,
   "metadata": {},
   "outputs": [],
   "source": [
    "#Set up\n",
    "from py_edamam import PyEdamam\n",
    "from secretKeys import appId, appKey\n",
    "import pandas as pd\n",
    "\n",
    "e = PyEdamam(recipes_appid=appId,\n",
    "           recipes_appkey=appKey)"
   ]
  },
  {
   "cell_type": "code",
   "execution_count": 4,
   "metadata": {},
   "outputs": [
    {
     "name": "stdout",
     "output_type": "stream",
     "text": [
      "Pineapple, fig & ginger chutney\n",
      "Crock Pot Brown Sugar Pinapple Ham\n"
     ]
    }
   ],
   "source": [
    "for recipe in e.search_recipe(\"Pinapple Ham\"):\n",
    "  print(recipe)\n",
    "  \n",
    "  URL = recipe.url\n",
    "  recipeTitle = recipe\n",
    "  servingSize = 'nan'\n",
    "  foodGenre = recipe.cuisineType\n",
    "  calories = recipe.calories\n",
    "  time = recipe.totalTime\n",
    "\n",
    "  #saturated fats\n",
    "  fat =  recipe.digest['Fat']['total']\n",
    "  fatU =  recipe.digest['Fat']['unit']\n",
    "  \n",
    "  protein =  recipe.digest['Protein']['total']\n",
    "  protienU =  recipe.digest['Protein']['unit']\n",
    "\n",
    "  cholesterol =  recipe.digest['Cholesterol']['total']\n",
    "  cholesterolU =  recipe.digest['Cholesterol']['unit']\n",
    "  \n",
    "  sodium =  recipe.digest['Sodium']['total']\n",
    "  sodiumU =  recipe.digest['Sodium']['unit']\n",
    "\n",
    "  # Carbs?? might be regular fats?\n",
    "  carbs =  recipe.digest['Carbs']['total']\n",
    "  carbsU =  recipe.digest['Carbs']['unit']\n",
    "\n",
    "  dietaryRestrictions =  recipe.healthLabels\n",
    "\n",
    "  ingrediantNames = recipe.ingredient_names\n",
    "  ingrediantQuantities = recipe.ingredient_quantities\n"
   ]
  }
 ],
 "metadata": {
  "kernelspec": {
   "display_name": "recipeDatabase",
   "language": "python",
   "name": "python3"
  },
  "language_info": {
   "codemirror_mode": {
    "name": "ipython",
    "version": 3
   },
   "file_extension": ".py",
   "mimetype": "text/x-python",
   "name": "python",
   "nbconvert_exporter": "python",
   "pygments_lexer": "ipython3",
   "version": "3.11.2"
  },
  "orig_nbformat": 4
 },
 "nbformat": 4,
 "nbformat_minor": 2
}
